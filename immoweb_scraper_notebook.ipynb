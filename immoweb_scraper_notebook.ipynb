{
 "cells": [
  {
   "cell_type": "code",
   "execution_count": 2,
   "metadata": {},
   "outputs": [
    {
     "name": "stdout",
     "output_type": "stream",
     "text": [
      "Started at 2024-10-11_14-59-22\n",
      "Number of page-urls retrieved : 1\n",
      "Type_of_property retrieved : house\n"
     ]
    }
   ],
   "source": [
    "from bs4 import BeautifulSoup\n",
    "import requests\n",
    "from datetime import datetime\n",
    "root_url = 'https://www.immoweb.be/en'\n",
    "headers = {\n",
    "    'User-Agent': 'Mozilla/5.0 (Windows NT 10.0; Win64; x64) AppleWebKit/537.36 (KHTML, like Gecko) Chrome/108.0.0.0 Safari/537.36'\n",
    "}\n",
    "start_run = datetime.now().strftime('%Y-%m-%d_%H-%M-%S')\n",
    "start = datetime.now()\n",
    "print(f\"Started at {start_run}\") \n",
    "### to get to the page-urls (seemingly always with 30 properties per pages) for list of 10000  houses (only), \n",
    "### only in BE and excluding life annuity sales (hence 2 filters applied)\n",
    "### sorted by newest first, language set to English\n",
    "type_of_property = 'house' # 'house' or 'apartment' to be \n",
    "pages = range(1) # assuming 333 pages if range is set to 333, assumption could be checked with last 'li' tag and class = \"pagination__item\" on the first page url (TBC)\n",
    "### !!!! improvement probabaly would be to use the <next page> button instead of recalling each time with new request.  As the list can change continiously, we might end up with dupplicates now.\n",
    "listing_url_pages = []\n",
    "listing_url_properties = []\n",
    "for i in pages:\n",
    "    page = i+1\n",
    "    page_url=f\"https://www.immoweb.be/en/search/{type_of_property}/for-sale?countries=BE&isALifeAnnuitySale=false&page={page}&orderBy=relevance&orderBy=newest\"\n",
    "    listing_url_pages.append(page_url)\n",
    "print(f\"Number of page-urls retrieved : {len(listing_url_pages)}\")\n",
    "print(f\"Type_of_property retrieved : {type_of_property}\") # with this search url, we are only looking for properties od type \"house\"\n"
   ]
  },
  {
   "cell_type": "code",
   "execution_count": 3,
   "metadata": {},
   "outputs": [],
   "source": [
    "def list_propertie_urls(page_url):\n",
    "    \"\"\"function returns a listing of property-urls \n",
    "    from an url to be provided as parameter(=url representing of a listing-page of immoweb.be/en)\"\"\"\n",
    "    list_1_page = []\n",
    "    req_1_page = requests.get(page_url, headers=headers)\n",
    "    page_soup = BeautifulSoup(req_1_page.text, 'html.parser')\n",
    "    listings = page_soup.find_all('article', class_='card--result')\n",
    "    for listing in listings:\n",
    "        list_1_page.append(listing.find('a', class_='card__title-link', href=True)['href'])\n",
    "    return (list_1_page)   \n",
    "\n",
    "#list_propertie_url(listing_url_pages[-1]) # test when on last page"
   ]
  },
  {
   "cell_type": "code",
   "execution_count": 4,
   "metadata": {},
   "outputs": [
    {
     "name": "stdout",
     "output_type": "stream",
     "text": [
      "nbr of individual properties (urls) retrieved : 30\n"
     ]
    }
   ],
   "source": [
    "# looping over a list of pages and retrieve all urls for the individual properties shown on those pages\n",
    "for i in listing_url_pages:\n",
    "    listing_url_properties += (list_propertie_urls(i))\n",
    "Numbre_of_individual_properties = len(listing_url_properties)\n",
    "print(f\"nbr of individual properties (urls) retrieved : {Numbre_of_individual_properties}\")"
   ]
  },
  {
   "cell_type": "code",
   "execution_count": 5,
   "metadata": {},
   "outputs": [],
   "source": [
    "def list_properties_detail(property_url):\n",
    "    \"\"\"function returns a dictionary of attributes of 1 specific property \n",
    "    from an property url to be provided as parameter \"\"\"\n",
    "    req_1_house = requests.get(property_url, headers=headers)\n",
    "    if req_1_house.status_code == 200:         # check if still valid url !!!!!    \n",
    "        soup = BeautifulSoup(req_1_house.text, 'html.parser')\n",
    "        listing_data = {}\n",
    "        ### ID ###\n",
    "        for x in soup.find('div', attrs={\"class\": \"classified__header--immoweb-code\"}):\n",
    "            listing_data[\"Property_ID\"] = x.text.split(\":\")[-1].strip()\n",
    "        ### PRICE ###\n",
    "        price_container = soup.find('p', attrs={\"class\": \"classified__price\"})\n",
    "        sr_only_span = price_container.find('span', attrs={\"class\": \"sr-only\"})\n",
    "        if sr_only_span:\n",
    "            listing_data[\"Price\"] = price_container.find('span', attrs={\"class\": \"sr-only\"}).text  \n",
    "        ### MISC ### everything that was under subtitles like interior, exterior, facilities, ...\n",
    "        ### at same level, selected together, then filtered out by a list of relevant attributes\n",
    "        rows = soup.find_all('tr', attrs={\"class\" :'classified-table__row'})\n",
    "        #print(rows)\n",
    "        for row in rows:\n",
    "            #print(\"row : \",row)\n",
    "            if row.find('th', attrs={\"class\" :'classified-table__header'}):\n",
    "                header = row.find('th', attrs={\"class\" :'classified-table__header'}).contents\n",
    "            key_field =((header[0]).strip()) \n",
    "            #print(key_field)  \n",
    "            if row.find('td', attrs={\"class\" :'classified-table__data'}):  \n",
    "                data = row.find('td', attrs={\"class\" :'classified-table__data'}).contents\n",
    "            value_field = ((data[0]).strip())\n",
    "            #print(value_field) \n",
    "            relevant_keys = [\"Living area\",\"Terrace surface\",\"Swimming pool\", \"Number of frontages\", \"Bedrooms\", \"How many fireplaces?\", \"Kitchen type\", \"Garden surface\", \"Swimming pool\", \"Type of building\", \"Furnished\"]   \n",
    "            if key_field in relevant_keys:\n",
    "                listing_data[key_field]= value_field\n",
    "        ### MISC2 - extracted out of the input url ###\n",
    "        parts = property_url.split('/')\n",
    "        listing_data['Postal_Code']=parts[8]\n",
    "        listing_data['Locality_Name']=parts[7]  \n",
    "        listing_data['extra']=parts[6] \n",
    "        listing_data['Subtype_of_property']=parts[5] \n",
    "        listing_data['Type_of_property']=type_of_property     \n",
    "        return listing_data\n",
    "\n",
    "#list_properties_detail('https://www.immoweb.be/en/classified/villa/for-sale/braine-lalleud/1421/20237028') # for testing only"
   ]
  },
  {
   "cell_type": "code",
   "execution_count": 6,
   "metadata": {},
   "outputs": [
    {
     "name": "stdout",
     "output_type": "stream",
     "text": [
      "(0, 'https://www.immoweb.be/en/classified/house/for-sale/overijse/3090/20241711')\n"
     ]
    }
   ],
   "source": [
    "# looping over a list of properties and retrieve attributes for that property \n",
    "# the attributes of one property are put in a dictionary.  Every dictionary is added to a list.\n",
    "listing_properties_detail = []\n",
    "for i, j in enumerate(listing_url_properties):\n",
    "    if i%100==0:  \n",
    "        print((i, j)) # to be able to see progress while running, every x-th property-url is printed.\n",
    "    listing_properties_detail.append(list_properties_detail(j))        "
   ]
  },
  {
   "cell_type": "code",
   "execution_count": 7,
   "metadata": {},
   "outputs": [
    {
     "name": "stdout",
     "output_type": "stream",
     "text": [
      "0:00:08.045381\n"
     ]
    }
   ],
   "source": [
    "### SAVING THE DATA ###\n",
    "timestamp = datetime.now().strftime('%Y-%m-%d_%H-%M-%S')\n",
    "end = datetime.now()\n",
    "run_time = end-start\n",
    "print(run_time)\n",
    "\n",
    "### save data with json\n",
    "filename = rf'data\\raw\\{timestamp}_{type_of_property}_{Numbre_of_individual_properties}.json' #relative path and filename js with timestamp\n",
    "import json\n",
    "def save(file_to_be_save):\n",
    "    with open(filename, 'w') as f:\n",
    "        json.dump(listing_properties_detail, f)\n",
    "save(listing_properties_detail)"
   ]
  },
  {
   "cell_type": "code",
   "execution_count": 8,
   "metadata": {},
   "outputs": [
    {
     "name": "stdout",
     "output_type": "stream",
     "text": [
      "shape of the dataframe is (30, 16) with: (1)the number of properties -in rows, (2) the number of attributes -in columns\n"
     ]
    }
   ],
   "source": [
    "### save data after df conversion to csv format\n",
    "import pandas as pd\n",
    "cleaned_listing_properties_detail = [item for item in listing_properties_detail if item is not None]\n",
    "df = pd.DataFrame(cleaned_listing_properties_detail)\n",
    "print(f\"shape of the dataframe is {df.shape} with: (1)the number of properties -in rows, (2) the number of attributes -in columns\")\n",
    "\n",
    "filename = rf'data\\raw\\{timestamp}_{type_of_property}_{Numbre_of_individual_properties}.csv'\n",
    "df.to_csv(filename, index=False)"
   ]
  },
  {
   "cell_type": "code",
   "execution_count": 9,
   "metadata": {},
   "outputs": [
    {
     "data": {
      "text/html": [
       "<div>\n",
       "<style scoped>\n",
       "    .dataframe tbody tr th:only-of-type {\n",
       "        vertical-align: middle;\n",
       "    }\n",
       "\n",
       "    .dataframe tbody tr th {\n",
       "        vertical-align: top;\n",
       "    }\n",
       "\n",
       "    .dataframe thead th {\n",
       "        text-align: right;\n",
       "    }\n",
       "</style>\n",
       "<table border=\"1\" class=\"dataframe\">\n",
       "  <thead>\n",
       "    <tr style=\"text-align: right;\">\n",
       "      <th></th>\n",
       "      <th>Property_ID</th>\n",
       "      <th>Price</th>\n",
       "      <th>Number of frontages</th>\n",
       "      <th>Living area</th>\n",
       "      <th>Kitchen type</th>\n",
       "      <th>Bedrooms</th>\n",
       "      <th>Garden surface</th>\n",
       "      <th>Terrace surface</th>\n",
       "      <th>Postal_Code</th>\n",
       "      <th>Locality_Name</th>\n",
       "      <th>extra</th>\n",
       "      <th>Subtype_of_property</th>\n",
       "      <th>Type_of_property</th>\n",
       "      <th>Type of building</th>\n",
       "      <th>How many fireplaces?</th>\n",
       "      <th>Furnished</th>\n",
       "    </tr>\n",
       "  </thead>\n",
       "  <tbody>\n",
       "    <tr>\n",
       "      <th>0</th>\n",
       "      <td>20241711</td>\n",
       "      <td>599500€</td>\n",
       "      <td>4</td>\n",
       "      <td>160</td>\n",
       "      <td>Hyper equipped</td>\n",
       "      <td>3</td>\n",
       "      <td>1482</td>\n",
       "      <td>60</td>\n",
       "      <td>3090</td>\n",
       "      <td>overijse</td>\n",
       "      <td>for-sale</td>\n",
       "      <td>house</td>\n",
       "      <td>house</td>\n",
       "      <td>NaN</td>\n",
       "      <td>NaN</td>\n",
       "      <td>NaN</td>\n",
       "    </tr>\n",
       "    <tr>\n",
       "      <th>1</th>\n",
       "      <td>20241707</td>\n",
       "      <td>559000€</td>\n",
       "      <td>3</td>\n",
       "      <td>228</td>\n",
       "      <td>Installed</td>\n",
       "      <td>5</td>\n",
       "      <td>NaN</td>\n",
       "      <td>NaN</td>\n",
       "      <td>2950</td>\n",
       "      <td>kapellen</td>\n",
       "      <td>for-sale</td>\n",
       "      <td>house</td>\n",
       "      <td>house</td>\n",
       "      <td>NaN</td>\n",
       "      <td>NaN</td>\n",
       "      <td>NaN</td>\n",
       "    </tr>\n",
       "    <tr>\n",
       "      <th>2</th>\n",
       "      <td>20241700</td>\n",
       "      <td>160000€</td>\n",
       "      <td>2</td>\n",
       "      <td>227</td>\n",
       "      <td>Installed</td>\n",
       "      <td>3</td>\n",
       "      <td>NaN</td>\n",
       "      <td>NaN</td>\n",
       "      <td>5500</td>\n",
       "      <td>dinant</td>\n",
       "      <td>for-sale</td>\n",
       "      <td>house</td>\n",
       "      <td>house</td>\n",
       "      <td>NaN</td>\n",
       "      <td>NaN</td>\n",
       "      <td>NaN</td>\n",
       "    </tr>\n",
       "    <tr>\n",
       "      <th>3</th>\n",
       "      <td>20241699</td>\n",
       "      <td>469000€</td>\n",
       "      <td>3</td>\n",
       "      <td>225</td>\n",
       "      <td>NaN</td>\n",
       "      <td>4</td>\n",
       "      <td>NaN</td>\n",
       "      <td>NaN</td>\n",
       "      <td>2570</td>\n",
       "      <td>duffel</td>\n",
       "      <td>for-sale</td>\n",
       "      <td>house</td>\n",
       "      <td>house</td>\n",
       "      <td>All kind</td>\n",
       "      <td>NaN</td>\n",
       "      <td>NaN</td>\n",
       "    </tr>\n",
       "  </tbody>\n",
       "</table>\n",
       "</div>"
      ],
      "text/plain": [
       "  Property_ID    Price Number of frontages Living area    Kitchen type  \\\n",
       "0    20241711  599500€                   4         160  Hyper equipped   \n",
       "1    20241707  559000€                   3         228       Installed   \n",
       "2    20241700  160000€                   2         227       Installed   \n",
       "3    20241699  469000€                   3         225             NaN   \n",
       "\n",
       "  Bedrooms Garden surface Terrace surface Postal_Code Locality_Name     extra  \\\n",
       "0        3           1482              60        3090      overijse  for-sale   \n",
       "1        5            NaN             NaN        2950      kapellen  for-sale   \n",
       "2        3            NaN             NaN        5500        dinant  for-sale   \n",
       "3        4            NaN             NaN        2570        duffel  for-sale   \n",
       "\n",
       "  Subtype_of_property Type_of_property Type of building How many fireplaces?  \\\n",
       "0               house            house              NaN                  NaN   \n",
       "1               house            house              NaN                  NaN   \n",
       "2               house            house              NaN                  NaN   \n",
       "3               house            house         All kind                  NaN   \n",
       "\n",
       "  Furnished  \n",
       "0       NaN  \n",
       "1       NaN  \n",
       "2       NaN  \n",
       "3       NaN  "
      ]
     },
     "execution_count": 9,
     "metadata": {},
     "output_type": "execute_result"
    }
   ],
   "source": [
    "df.head(4)"
   ]
  },
  {
   "cell_type": "code",
   "execution_count": 10,
   "metadata": {},
   "outputs": [
    {
     "name": "stdout",
     "output_type": "stream",
     "text": [
      "<class 'pandas.core.frame.DataFrame'>\n",
      "RangeIndex: 30 entries, 0 to 29\n",
      "Data columns (total 16 columns):\n",
      " #   Column                Non-Null Count  Dtype \n",
      "---  ------                --------------  ----- \n",
      " 0   Property_ID           30 non-null     object\n",
      " 1   Price                 30 non-null     object\n",
      " 2   Number of frontages   25 non-null     object\n",
      " 3   Living area           25 non-null     object\n",
      " 4   Kitchen type          20 non-null     object\n",
      " 5   Bedrooms              29 non-null     object\n",
      " 6   Garden surface        10 non-null     object\n",
      " 7   Terrace surface       7 non-null      object\n",
      " 8   Postal_Code           30 non-null     object\n",
      " 9   Locality_Name         30 non-null     object\n",
      " 10  extra                 30 non-null     object\n",
      " 11  Subtype_of_property   30 non-null     object\n",
      " 12  Type_of_property      30 non-null     object\n",
      " 13  Type of building      6 non-null      object\n",
      " 14  How many fireplaces?  5 non-null      object\n",
      " 15  Furnished             6 non-null      object\n",
      "dtypes: object(16)\n",
      "memory usage: 3.9+ KB\n"
     ]
    }
   ],
   "source": [
    "df.info()"
   ]
  }
 ],
 "metadata": {
  "kernelspec": {
   "display_name": ".venv",
   "language": "python",
   "name": "python3"
  },
  "language_info": {
   "codemirror_mode": {
    "name": "ipython",
    "version": 3
   },
   "file_extension": ".py",
   "mimetype": "text/x-python",
   "name": "python",
   "nbconvert_exporter": "python",
   "pygments_lexer": "ipython3",
   "version": "3.12.6"
  }
 },
 "nbformat": 4,
 "nbformat_minor": 2
}

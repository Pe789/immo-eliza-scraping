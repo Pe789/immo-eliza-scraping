{
 "cells": [
  {
   "cell_type": "code",
   "execution_count": 119,
   "metadata": {},
   "outputs": [
    {
     "name": "stdout",
     "output_type": "stream",
     "text": [
      "Property_ID:  20228067\n",
      "                    \n",
      "Price: 2695000€\n",
      "Number of frontages: 4\n",
      "Living area: 1005\n",
      "How many fireplaces?: 1\n",
      "Kitchen type: Hyper equipped\n",
      "Furnished: No\n",
      "Garden surface: 5500\n"
     ]
    }
   ],
   "source": [
    "from bs4 import BeautifulSoup\n",
    "import requests\n",
    "root_url = 'https://www.immoweb.be/en'\n",
    "#cookie_url = root_url + '/cookie'\n",
    "#cookies = requests.get(cookie_url).cookies\n",
    "#print(cookies)\n",
    "headers = {\n",
    "    'User-Agent': 'Mozilla/5.0 (Windows NT 10.0; Win64; x64) AppleWebKit/537.36 (KHTML, like Gecko) Chrome/108.0.0.0 Safari/537.36'\n",
    "}\n",
    "root_url_one_house = 'https://www.immoweb.be/en/classified/villa/for-sale/hertsberge/8020/20228067'\n",
    "req_1_house = requests.get(root_url_one_house, headers=headers)\n",
    "soup = BeautifulSoup(req_1_house.text, 'html.parser')\n",
    "#print(soup.prettify())\n",
    "\n",
    "listing_data = {}\n",
    "###\n",
    "for x in soup.find('div', attrs={\"class\": \"classified__header--immoweb-code\"}):\n",
    "    listing_data[\"Property_ID\"] = x.text.split(\":\")[-1]\n",
    "###   \n",
    "price_container = soup.find('p', attrs={\"class\": \"classified__price\"})\n",
    "sr_only_span = price_container.find('span', attrs={\"class\": \"sr-only\"})\n",
    "if sr_only_span:\n",
    "    listing_data[\"Price\"] = price_container.find('span', attrs={\"class\": \"sr-only\"}).text  \n",
    "###\n",
    "\n",
    "# Find all <tr> tags with the class 'classified-table__row'\n",
    "relevant_keys = [\"Living area\",\"Terrace surface\",\"Swimming pool\", \"Number of frontages\", \"How many fireplaces?\", \"Kitchen type\", \"Garden surface\", \"Swimming pool\", \"Type of building\", \"Furnished\"]\n",
    "rows = soup.find_all('tr', attrs={\"class\" :'classified-table__row'})\n",
    "for row in rows:\n",
    "    #print(\"row : \",row)\n",
    "    if row.find('th', attrs={\"class\" :'classified-table__header'}):\n",
    "        header = row.find('th', attrs={\"class\" :'classified-table__header'}).contents\n",
    "    key_field =((header[0]).strip()) \n",
    "    #print(key_field)  \n",
    "    if row.find('td', attrs={\"class\" :'classified-table__data'}):  \n",
    "        data = row.find('td', attrs={\"class\" :'classified-table__data'}).contents\n",
    "    value_field = ((data[0]).strip())\n",
    "    #print(value_field)\n",
    "    \n",
    "    if key_field in relevant_keys:\n",
    "        listing_data[key_field]= value_field\n",
    "\n",
    "#####\n",
    "\n",
    "for key,value in listing_data.items():\n",
    "    print(f\"{key}: {value}\")\n",
    "   \n",
    "\n"
   ]
  }
 ],
 "metadata": {
  "kernelspec": {
   "display_name": ".venv",
   "language": "python",
   "name": "python3"
  },
  "language_info": {
   "codemirror_mode": {
    "name": "ipython",
    "version": 3
   },
   "file_extension": ".py",
   "mimetype": "text/x-python",
   "name": "python",
   "nbconvert_exporter": "python",
   "pygments_lexer": "ipython3",
   "version": "3.12.6"
  }
 },
 "nbformat": 4,
 "nbformat_minor": 2
}
